{
 "cells": [
  {
   "cell_type": "code",
   "execution_count": 3,
   "metadata": {},
   "outputs": [],
   "source": [
    "import tensorflow as tf\n",
    "from tensorflow import keras\n",
    "from tensorflow.keras.preprocessing.image import ImageDataGenerator\n",
    "import numpy as np\n",
    "import os\n",
    "from os import listdir"
   ]
  },
  {
   "cell_type": "code",
   "execution_count": 18,
   "metadata": {},
   "outputs": [],
   "source": [
    "# O is for Organic Foods \n",
    "# R is for Recyclable Foods\n",
    "\n",
    "base_dir = 'C:/Users/umara/Desktop/Waste/Data/DATASET'\n",
    "\n",
    "train_dir = os.path.join(base_dir, 'TRAIN')\n",
    "validation_dir = os.path.join(base_dir, 'TEST')\n",
    "\n",
    "# Directory with our training Organic/Recyclable pictures\n",
    "train_org_dir = os.path.join(train_dir, 'O')\n",
    "train_rec_dir = os.path.join(train_dir, 'R')\n",
    "\n",
    "# Directory with our validation/test Organic/Recyclable pictures\n",
    "\n",
    "test_org_dir = os.path.join(validation_dir, 'O')\n",
    "test_rec_dir = os.path.join(validation_dir, 'R')"
   ]
  },
  {
   "cell_type": "code",
   "execution_count": 21,
   "metadata": {},
   "outputs": [
    {
     "name": "stdout",
     "output_type": "stream",
     "text": [
      "total training Organic item images : 12565\n",
      "total training Recylabe item images : 9999\n",
      "total validation Organic item images : 1401\n",
      "total validation Recylabe item images : 1112\n"
     ]
    }
   ],
   "source": [
    "# Lets check how much images there are in each test/train image files\n",
    "# There are a total of 22654 Training images and 2513 Test Images \n",
    "# Split up in 85% Train and 15% Test \n",
    "print('total training Organic item images :', len(os.listdir( train_org_dir )))\n",
    "print('total training Recylabe item images :', len(os.listdir( train_rec_dir )))\n",
    "\n",
    "print('total validation Organic item images :', len(os.listdir( test_org_dir ) ))\n",
    "print('total validation Recylabe item images :', len(os.listdir( test_rec_dir ) ))\n"
   ]
  },
  {
   "cell_type": "code",
   "execution_count": null,
   "metadata": {},
   "outputs": [],
   "source": []
  }
 ],
 "metadata": {
  "kernelspec": {
   "display_name": "Python 3",
   "language": "python",
   "name": "python3"
  },
  "language_info": {
   "codemirror_mode": {
    "name": "ipython",
    "version": 3
   },
   "file_extension": ".py",
   "mimetype": "text/x-python",
   "name": "python",
   "nbconvert_exporter": "python",
   "pygments_lexer": "ipython3",
   "version": "3.7.8"
  }
 },
 "nbformat": 4,
 "nbformat_minor": 4
}
